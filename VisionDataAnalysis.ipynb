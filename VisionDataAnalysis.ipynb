{
  "nbformat": 4,
  "nbformat_minor": 0,
  "metadata": {
    "colab": {
      "name": "VisionDataAnalysis.ipynb",
      "provenance": [],
      "collapsed_sections": [
        "etzRS_MNepkE",
        "ENUGcTFlcSc4",
        "b3qxxu6AeTm7",
        "1LJa_awQefo9",
        "NkpiLfgy8gZo"
      ],
      "authorship_tag": "ABX9TyPiBBvFYB2s4GBfjCsCulxw",
      "include_colab_link": true
    },
    "kernelspec": {
      "name": "python3",
      "display_name": "Python 3"
    },
    "language_info": {
      "name": "python"
    }
  },
  "cells": [
    {
      "cell_type": "markdown",
      "metadata": {
        "id": "view-in-github",
        "colab_type": "text"
      },
      "source": [
        "<a href=\"https://colab.research.google.com/github/tennisoctocat/zoom-backlighting/blob/master/VisionDataAnalysis.ipynb\" target=\"_parent\"><img src=\"https://colab.research.google.com/assets/colab-badge.svg\" alt=\"Open In Colab\"/></a>"
      ]
    },
    {
      "cell_type": "markdown",
      "metadata": {
        "id": "SWxSkpDZcUlW"
      },
      "source": [
        "# Data Analysis for Vision Project\n",
        "\n",
        "Notebook used for the data analysis part of my Computer Vision CS 153 project. \n",
        "\n",
        "Author: Cynthia Hom\n",
        "\n",
        "Date: December 10, 2021"
      ]
    },
    {
      "cell_type": "markdown",
      "metadata": {
        "id": "ENUGcTFlcSc4"
      },
      "source": [
        "## Setup"
      ]
    },
    {
      "cell_type": "code",
      "metadata": {
        "id": "ZKhC7flOb-Ye"
      },
      "source": [
        "import numpy as np\n",
        "import pandas as pd\n",
        "import matplotlib.pyplot as plt\n",
        "import seaborn as sb\n",
        "from google.colab import files"
      ],
      "execution_count": 2,
      "outputs": []
    },
    {
      "cell_type": "markdown",
      "metadata": {
        "id": "XNfDLmWZcQGV"
      },
      "source": [
        "Read in the CSV"
      ]
    },
    {
      "cell_type": "code",
      "metadata": {
        "colab": {
          "resources": {
            "http://localhost:8080/nbextensions/google.colab/files.js": {
              "data": "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",
              "ok": true,
              "headers": [
                [
                  "content-type",
                  "application/javascript"
                ]
              ],
              "status": 200,
              "status_text": ""
            }
          },
          "base_uri": "https://localhost:8080/",
          "height": 90
        },
        "id": "w01z6FL-cMRt",
        "outputId": "27460a09-24cd-4638-a52e-a28787a1cb53"
      },
      "source": [
        "uploaded = files.upload()\n",
        "for fn in uploaded.keys():\n",
        "  print(f'User uploaded file \"{fn}\" with length {len(uploaded[fn])} bytes')"
      ],
      "execution_count": 3,
      "outputs": [
        {
          "output_type": "display_data",
          "data": {
            "text/html": [
              "\n",
              "     <input type=\"file\" id=\"files-346422b4-8bb9-4084-9a3a-6435d15f7f76\" name=\"files[]\" multiple disabled\n",
              "        style=\"border:none\" />\n",
              "     <output id=\"result-346422b4-8bb9-4084-9a3a-6435d15f7f76\">\n",
              "      Upload widget is only available when the cell has been executed in the\n",
              "      current browser session. Please rerun this cell to enable.\n",
              "      </output>\n",
              "      <script src=\"/nbextensions/google.colab/files.js\"></script> "
            ],
            "text/plain": [
              "<IPython.core.display.HTML object>"
            ]
          },
          "metadata": {}
        },
        {
          "output_type": "stream",
          "name": "stdout",
          "text": [
            "Saving VisionSurveyResponses - Form Responses 1.csv to VisionSurveyResponses - Form Responses 1.csv\n",
            "User uploaded file \"VisionSurveyResponses - Form Responses 1.csv\" with length 443 bytes\n"
          ]
        }
      ]
    },
    {
      "cell_type": "code",
      "metadata": {
        "id": "NC3D4nsPcqKD"
      },
      "source": [
        "df = pd.read_csv(\"VisionSurveyResponses - Form Responses 1.csv\")"
      ],
      "execution_count": 4,
      "outputs": []
    },
    {
      "cell_type": "code",
      "metadata": {
        "id": "FnprNq5HeOE4",
        "colab": {
          "base_uri": "https://localhost:8080/",
          "height": 300
        },
        "outputId": "94722d14-fc78-46e2-fde4-2a718c93065d"
      },
      "source": [
        "df"
      ],
      "execution_count": 5,
      "outputs": [
        {
          "output_type": "execute_result",
          "data": {
            "text/html": [
              "<div>\n",
              "<style scoped>\n",
              "    .dataframe tbody tr th:only-of-type {\n",
              "        vertical-align: middle;\n",
              "    }\n",
              "\n",
              "    .dataframe tbody tr th {\n",
              "        vertical-align: top;\n",
              "    }\n",
              "\n",
              "    .dataframe thead th {\n",
              "        text-align: right;\n",
              "    }\n",
              "</style>\n",
              "<table border=\"1\" class=\"dataframe\">\n",
              "  <thead>\n",
              "    <tr style=\"text-align: right;\">\n",
              "      <th></th>\n",
              "      <th>Timestamp</th>\n",
              "      <th>Group 1</th>\n",
              "      <th>Group 2</th>\n",
              "      <th>Group 3</th>\n",
              "      <th>Group 4</th>\n",
              "      <th>Group 5</th>\n",
              "      <th>Comments?</th>\n",
              "    </tr>\n",
              "  </thead>\n",
              "  <tbody>\n",
              "    <tr>\n",
              "      <th>0</th>\n",
              "      <td>12/6/2021 17:32:50</td>\n",
              "      <td>1234</td>\n",
              "      <td>1324</td>\n",
              "      <td>3421</td>\n",
              "      <td>1243</td>\n",
              "      <td>3142</td>\n",
              "      <td>NaN</td>\n",
              "    </tr>\n",
              "    <tr>\n",
              "      <th>1</th>\n",
              "      <td>12/6/2021 18:06:31</td>\n",
              "      <td>1234</td>\n",
              "      <td>4321</td>\n",
              "      <td>3124</td>\n",
              "      <td>4213</td>\n",
              "      <td>2413</td>\n",
              "      <td>NaN</td>\n",
              "    </tr>\n",
              "    <tr>\n",
              "      <th>2</th>\n",
              "      <td>12/6/2021 18:10:07</td>\n",
              "      <td>4231</td>\n",
              "      <td>1324</td>\n",
              "      <td>4132</td>\n",
              "      <td>1423</td>\n",
              "      <td>2413</td>\n",
              "      <td>You look great!</td>\n",
              "    </tr>\n",
              "    <tr>\n",
              "      <th>3</th>\n",
              "      <td>12/6/2021 18:35:31</td>\n",
              "      <td>1234</td>\n",
              "      <td>4321</td>\n",
              "      <td>2134</td>\n",
              "      <td>4312</td>\n",
              "      <td>3142</td>\n",
              "      <td>NaN</td>\n",
              "    </tr>\n",
              "    <tr>\n",
              "      <th>4</th>\n",
              "      <td>12/6/2021 18:40:57</td>\n",
              "      <td>1234</td>\n",
              "      <td>4231</td>\n",
              "      <td>3124</td>\n",
              "      <td>4312</td>\n",
              "      <td>2314</td>\n",
              "      <td>NaN</td>\n",
              "    </tr>\n",
              "    <tr>\n",
              "      <th>5</th>\n",
              "      <td>12/6/2021 18:50:33</td>\n",
              "      <td>1234</td>\n",
              "      <td>4231</td>\n",
              "      <td>3124</td>\n",
              "      <td>4213</td>\n",
              "      <td>2413</td>\n",
              "      <td>NaN</td>\n",
              "    </tr>\n",
              "    <tr>\n",
              "      <th>6</th>\n",
              "      <td>12/6/2021 19:28:08</td>\n",
              "      <td>4321</td>\n",
              "      <td>1324</td>\n",
              "      <td>1432</td>\n",
              "      <td>4123</td>\n",
              "      <td>4213</td>\n",
              "      <td>NaN</td>\n",
              "    </tr>\n",
              "    <tr>\n",
              "      <th>7</th>\n",
              "      <td>12/6/2021 21:01:49</td>\n",
              "      <td>1234</td>\n",
              "      <td>4231</td>\n",
              "      <td>4123</td>\n",
              "      <td>4312</td>\n",
              "      <td>2413</td>\n",
              "      <td>NaN</td>\n",
              "    </tr>\n",
              "  </tbody>\n",
              "</table>\n",
              "</div>"
            ],
            "text/plain": [
              "            Timestamp  Group 1  Group 2  ...  Group 4  Group 5       Comments? \n",
              "0  12/6/2021 17:32:50     1234     1324  ...     1243     3142              NaN\n",
              "1  12/6/2021 18:06:31     1234     4321  ...     4213     2413              NaN\n",
              "2  12/6/2021 18:10:07     4231     1324  ...     1423     2413  You look great!\n",
              "3  12/6/2021 18:35:31     1234     4321  ...     4312     3142              NaN\n",
              "4  12/6/2021 18:40:57     1234     4231  ...     4312     2314              NaN\n",
              "5  12/6/2021 18:50:33     1234     4231  ...     4213     2413              NaN\n",
              "6  12/6/2021 19:28:08     4321     1324  ...     4123     4213              NaN\n",
              "7  12/6/2021 21:01:49     1234     4231  ...     4312     2413              NaN\n",
              "\n",
              "[8 rows x 7 columns]"
            ]
          },
          "metadata": {},
          "execution_count": 5
        }
      ]
    },
    {
      "cell_type": "markdown",
      "metadata": {
        "id": "b3qxxu6AeTm7"
      },
      "source": [
        "## Data Processing"
      ]
    },
    {
      "cell_type": "markdown",
      "metadata": {
        "id": "RGTsWyPfiPq_"
      },
      "source": [
        "`permutation` is the permutation of the images in the google form. The order was randomized so that the order of the photos would not influence people's responses."
      ]
    },
    {
      "cell_type": "code",
      "metadata": {
        "id": "NOegNxCBiP7q"
      },
      "source": [
        "permutation = [[\"raw\", \"my output\", \"zoom auto\", \"zoom manual\"],\n",
        "               [\"zoom manual\", \"my output\", \"zoom auto\", \"raw\"],\n",
        "               [\"my output\", \"raw\", \"zoom auto\",  \"zoom manual\"],\n",
        "               [\"zoom manual\", \"my output\", \"raw\", \"zoom auto\"],\n",
        "               [\"zoom auto\", \"zoom manual\", \"raw\", \"my output\"]]"
      ],
      "execution_count": null,
      "outputs": []
    },
    {
      "cell_type": "markdown",
      "metadata": {
        "id": "Lr4G0L9ct8_5"
      },
      "source": [
        "We define a function the extract the values we want from the strings that were inputted in the form. We store these in a dictionary with keys that correspond to the brightness value and the type of processing done to the photo."
      ]
    },
    {
      "cell_type": "code",
      "metadata": {
        "id": "1qRDbLcGlZjx"
      },
      "source": [
        "def getValueDict(df, groupNum, permutation):\n",
        "  permutationList = permutation[groupNum - 1]\n",
        "  colName = f\"Group {groupNum}\"\n",
        "  arr = np.array(df[colName])\n",
        "  valueDict = {}\n",
        "  valueDict[permutationList[0]] = (arr % 10000) // 1000 # First digit\n",
        "  valueDict[permutationList[1]] = (arr % 1000) // 100 # second digit\n",
        "  valueDict[permutationList[2]] = (arr % 100) // 10 # third digit\n",
        "  valueDict[permutationList[3]] = arr % 10 // 1 # fourth digit\n",
        "  return valueDict"
      ],
      "execution_count": null,
      "outputs": []
    },
    {
      "cell_type": "code",
      "metadata": {
        "colab": {
          "base_uri": "https://localhost:8080/"
        },
        "id": "I3bjsU8Slui1",
        "outputId": "ffa50876-8504-42e5-91ca-e1fab4b9fc8a"
      },
      "source": [
        "myDict = {}\n",
        "for brightnessVal in range(1, 6, 1): # groups 1 to 5\n",
        "  myDict[brightnessVal] = getValueDict(df, brightnessVal, permutation)\n",
        "myDict"
      ],
      "execution_count": null,
      "outputs": [
        {
          "output_type": "execute_result",
          "data": {
            "text/plain": [
              "{1: {'my output': array([2, 2, 2, 2, 2, 2, 3, 2]),\n",
              "  'raw': array([1, 1, 4, 1, 1, 1, 4, 1]),\n",
              "  'zoom auto': array([3, 3, 3, 3, 3, 3, 2, 3]),\n",
              "  'zoom manual': array([4, 4, 1, 4, 4, 4, 1, 4])},\n",
              " 2: {'my output': array([3, 3, 3, 3, 2, 2, 3, 2]),\n",
              "  'raw': array([4, 1, 4, 1, 1, 1, 4, 1]),\n",
              "  'zoom auto': array([2, 2, 2, 2, 3, 3, 2, 3]),\n",
              "  'zoom manual': array([1, 4, 1, 4, 4, 4, 1, 4])},\n",
              " 3: {'my output': array([3, 3, 4, 2, 3, 3, 1, 4]),\n",
              "  'raw': array([4, 1, 1, 1, 1, 1, 4, 1]),\n",
              "  'zoom auto': array([2, 2, 3, 3, 2, 2, 3, 2]),\n",
              "  'zoom manual': array([1, 4, 2, 4, 4, 4, 2, 3])},\n",
              " 4: {'my output': array([2, 2, 4, 3, 3, 2, 1, 3]),\n",
              "  'raw': array([4, 1, 2, 1, 1, 1, 2, 1]),\n",
              "  'zoom auto': array([3, 3, 3, 2, 2, 3, 3, 2]),\n",
              "  'zoom manual': array([1, 4, 1, 4, 4, 4, 4, 4])},\n",
              " 5: {'my output': array([2, 3, 3, 2, 4, 3, 3, 3]),\n",
              "  'raw': array([4, 1, 1, 4, 1, 1, 1, 1]),\n",
              "  'zoom auto': array([3, 2, 2, 3, 2, 2, 4, 2]),\n",
              "  'zoom manual': array([1, 4, 4, 1, 3, 4, 2, 4])}}"
            ]
          },
          "metadata": {},
          "execution_count": 50
        }
      ]
    },
    {
      "cell_type": "markdown",
      "metadata": {
        "id": "Ws4297CluF59"
      },
      "source": [
        "Let's turn this into a dataframe so that we can graph things properly."
      ]
    },
    {
      "cell_type": "code",
      "metadata": {
        "id": "DFfhYEUupPtx"
      },
      "source": [
        "listsToAdd = []\n",
        "for brightnessVal in myDict:\n",
        "  for imgType in myDict[brightnessVal]:\n",
        "    myArr = np.array(myDict[brightnessVal][imgType], dtype=\"int\")\n",
        "    brightnessCol = np.array([brightnessVal] * len(myArr))\n",
        "    outputTypeCol = np.array([imgType] * len(myArr))\n",
        "    toAdd = np.stack((brightnessCol, outputTypeCol, myArr), axis=1)\n",
        "    listsToAdd.append(toAdd)\n",
        "listForDf = np.concatenate(listsToAdd)"
      ],
      "execution_count": null,
      "outputs": []
    },
    {
      "cell_type": "code",
      "metadata": {
        "id": "xG2ui4XLrz9N"
      },
      "source": [
        "newDf = pd.DataFrame(listForDf, columns=[\"brightness\", \"type\", \"rating\"])"
      ],
      "execution_count": null,
      "outputs": []
    },
    {
      "cell_type": "markdown",
      "metadata": {
        "id": "UUiQTqsguJ76"
      },
      "source": [
        "Let's take a look at our dataframe."
      ]
    },
    {
      "cell_type": "code",
      "metadata": {
        "colab": {
          "base_uri": "https://localhost:8080/"
        },
        "id": "bt28cNI0sOjg",
        "outputId": "342ce2f1-9e29-44af-bc55-f6d227f736a6"
      },
      "source": [
        "newDf.head()"
      ],
      "execution_count": null,
      "outputs": [
        {
          "output_type": "execute_result",
          "data": {
            "text/html": [
              "<div>\n",
              "<style scoped>\n",
              "    .dataframe tbody tr th:only-of-type {\n",
              "        vertical-align: middle;\n",
              "    }\n",
              "\n",
              "    .dataframe tbody tr th {\n",
              "        vertical-align: top;\n",
              "    }\n",
              "\n",
              "    .dataframe thead th {\n",
              "        text-align: right;\n",
              "    }\n",
              "</style>\n",
              "<table border=\"1\" class=\"dataframe\">\n",
              "  <thead>\n",
              "    <tr style=\"text-align: right;\">\n",
              "      <th></th>\n",
              "      <th>brightness</th>\n",
              "      <th>type</th>\n",
              "      <th>rating</th>\n",
              "    </tr>\n",
              "  </thead>\n",
              "  <tbody>\n",
              "    <tr>\n",
              "      <th>0</th>\n",
              "      <td>1</td>\n",
              "      <td>raw</td>\n",
              "      <td>1</td>\n",
              "    </tr>\n",
              "    <tr>\n",
              "      <th>1</th>\n",
              "      <td>1</td>\n",
              "      <td>raw</td>\n",
              "      <td>1</td>\n",
              "    </tr>\n",
              "    <tr>\n",
              "      <th>2</th>\n",
              "      <td>1</td>\n",
              "      <td>raw</td>\n",
              "      <td>4</td>\n",
              "    </tr>\n",
              "    <tr>\n",
              "      <th>3</th>\n",
              "      <td>1</td>\n",
              "      <td>raw</td>\n",
              "      <td>1</td>\n",
              "    </tr>\n",
              "    <tr>\n",
              "      <th>4</th>\n",
              "      <td>1</td>\n",
              "      <td>raw</td>\n",
              "      <td>1</td>\n",
              "    </tr>\n",
              "  </tbody>\n",
              "</table>\n",
              "</div>"
            ],
            "text/plain": [
              "  brightness type  rating\n",
              "0          1  raw       1\n",
              "1          1  raw       1\n",
              "2          1  raw       4\n",
              "3          1  raw       1\n",
              "4          1  raw       1"
            ]
          },
          "metadata": {},
          "execution_count": 107
        }
      ]
    },
    {
      "cell_type": "code",
      "metadata": {
        "id": "QnvJm_n4tu_V"
      },
      "source": [
        "type(newDf['rating'][0])"
      ],
      "execution_count": null,
      "outputs": []
    },
    {
      "cell_type": "code",
      "metadata": {
        "colab": {
          "base_uri": "https://localhost:8080/"
        },
        "id": "xjqLHON3tv-D",
        "outputId": "ba56ad6f-1958-4f93-90aa-eb595a08d878"
      },
      "source": [
        "type(newDf['brightness'][0])"
      ],
      "execution_count": null,
      "outputs": [
        {
          "output_type": "execute_result",
          "data": {
            "text/plain": [
              "str"
            ]
          },
          "metadata": {},
          "execution_count": 109
        }
      ]
    },
    {
      "cell_type": "markdown",
      "metadata": {
        "id": "IjJyLLSZtqaF"
      },
      "source": [
        "We notice that the rating and brightness columns do not have type int, so let's make them type int. "
      ]
    },
    {
      "cell_type": "code",
      "metadata": {
        "colab": {
          "base_uri": "https://localhost:8080/"
        },
        "id": "0uJbAXNBtdWQ",
        "outputId": "7f5bb424-db51-4829-edb5-6423af3d7584"
      },
      "source": [
        "newDf['rating'] = newDf['rating'].astype('uint8')\n",
        "newDf['brightness'] = newDf['brightness'].astype('uint8')\n",
        "print(type(newDf['rating'][0]))\n",
        "print(type(newDf['brightness'][0]))"
      ],
      "execution_count": null,
      "outputs": [
        {
          "output_type": "stream",
          "name": "stdout",
          "text": [
            "<class 'numpy.uint8'>\n",
            "<class 'numpy.uint8'>\n"
          ]
        }
      ]
    },
    {
      "cell_type": "markdown",
      "metadata": {
        "id": "1LJa_awQefo9"
      },
      "source": [
        "## Graphs"
      ]
    },
    {
      "cell_type": "markdown",
      "metadata": {
        "id": "PbDgrUUPeg0Z"
      },
      "source": [
        "We want to compare the overall average relative ranking for all types, as well as across brightnesses.\n",
        "\n",
        "I used this [tutorial](https://www.marsja.se/how-to-save-a-seaborn-plot-as-a-file-e-g-png-pdf-eps-tiff/) to figure out how to save the images with different formats. "
      ]
    },
    {
      "cell_type": "markdown",
      "metadata": {
        "id": "fI1djhl562Ea"
      },
      "source": [
        "Let's start by showing the average relative ranking for each of the different processing types."
      ]
    },
    {
      "cell_type": "code",
      "metadata": {
        "id": "cqv1u6JxegQJ"
      },
      "source": [
        "import seaborn as sns\n",
        "sns.set_theme(style=\"darkgrid\")"
      ],
      "execution_count": null,
      "outputs": []
    },
    {
      "cell_type": "markdown",
      "metadata": {
        "id": "TqTAgna5ucP5"
      },
      "source": [
        "Let's show the overall scores with confidence intervals for all the data, across all the input types. From the [documentation](https://seaborn.pydata.org/generated/seaborn.barplot.html), we can tell that these are 95% confidence intervals, which is perfect for what we want."
      ]
    },
    {
      "cell_type": "code",
      "metadata": {
        "colab": {
          "base_uri": "https://localhost:8080/"
        },
        "id": "6e12j7cvmpKN",
        "outputId": "9cca4d70-b171-4194-d63a-12bfb4034a93"
      },
      "source": [
        "ax = sns.barplot(x=\"type\", y=\"rating\", data=newDf, palette=\"Blues_d\")\n",
        "plt.savefig('bar_graph.svg')\n",
        "plt.savefig('bar_graph.png', dpi=300)"
      ],
      "execution_count": null,
      "outputs": [
        {
          "output_type": "display_data",
          "data": {
            "image/png": "[encoded data removed]",
            "text/plain": [
              "<Figure size 432x288 with 1 Axes>"
            ]
          },
          "metadata": {}
        }
      ]
    },
    {
      "cell_type": "markdown",
      "metadata": {
        "id": "2X8vCMLewwKp"
      },
      "source": [
        "Or perhaps we can make this a point plot instead. Here's the [documentation](https://seaborn.pydata.org/generated/seaborn.pointplot.html) for the point plot."
      ]
    },
    {
      "cell_type": "code",
      "metadata": {
        "colab": {
          "base_uri": "https://localhost:8080/"
        },
        "id": "qiXNzuwtwrwq",
        "outputId": "b79547b3-1154-41cc-ba00-758eb1398de5"
      },
      "source": [
        "ax = sns.pointplot(x=\"type\", y=\"rating\", data=newDf, join=False, palette=\"Blues_d\")\n",
        "ax.set_title(\"Type vs. Relative Ranking\")\n",
        "ax.set_xlabel(\"Type\")\n",
        "ax.set_ylabel(\"Relative Ranking\")\n",
        "ax.set_xticklabels([\"Raw\", \"My Pipeline\", \"Zoom Auto\", \"Zoom Manual\"])\n",
        "plt.savefig('TypeVsRelativeRankingOverall.svg')\n",
        "plt.savefig('TypeVsRelativeRankingOverall.png', dpi=300)"
      ],
      "execution_count": null,
      "outputs": [
        {
          "output_type": "display_data",
          "data": {
            "image/png": "[encoded data removed]",
            "text/plain": [
              "<Figure size 432x288 with 1 Axes>"
            ]
          },
          "metadata": {}
        }
      ]
    },
    {
      "cell_type": "markdown",
      "metadata": {
        "id": "NST386lMukW9"
      },
      "source": [
        "Now let's make a separate plot that shows the distribution of scores across different brightness values for my output only. "
      ]
    },
    {
      "cell_type": "code",
      "metadata": {
        "id": "URIlj9r9xC3z"
      },
      "source": [
        "myOutputDf = newDf[newDf['type'] == \"my output\"]"
      ],
      "execution_count": null,
      "outputs": []
    },
    {
      "cell_type": "code",
      "metadata": {
        "colab": {
          "base_uri": "https://localhost:8080/"
        },
        "id": "m34MToJwxU9u",
        "outputId": "301f6dfb-4ff1-432f-8599-d22eccf58526"
      },
      "source": [
        "myOutputDf.head()"
      ],
      "execution_count": null,
      "outputs": [
        {
          "output_type": "execute_result",
          "data": {
            "text/html": [
              "<div>\n",
              "<style scoped>\n",
              "    .dataframe tbody tr th:only-of-type {\n",
              "        vertical-align: middle;\n",
              "    }\n",
              "\n",
              "    .dataframe tbody tr th {\n",
              "        vertical-align: top;\n",
              "    }\n",
              "\n",
              "    .dataframe thead th {\n",
              "        text-align: right;\n",
              "    }\n",
              "</style>\n",
              "<table border=\"1\" class=\"dataframe\">\n",
              "  <thead>\n",
              "    <tr style=\"text-align: right;\">\n",
              "      <th></th>\n",
              "      <th>brightness</th>\n",
              "      <th>type</th>\n",
              "      <th>rating</th>\n",
              "    </tr>\n",
              "  </thead>\n",
              "  <tbody>\n",
              "    <tr>\n",
              "      <th>8</th>\n",
              "      <td>1</td>\n",
              "      <td>my output</td>\n",
              "      <td>2</td>\n",
              "    </tr>\n",
              "    <tr>\n",
              "      <th>9</th>\n",
              "      <td>1</td>\n",
              "      <td>my output</td>\n",
              "      <td>2</td>\n",
              "    </tr>\n",
              "    <tr>\n",
              "      <th>10</th>\n",
              "      <td>1</td>\n",
              "      <td>my output</td>\n",
              "      <td>2</td>\n",
              "    </tr>\n",
              "    <tr>\n",
              "      <th>11</th>\n",
              "      <td>1</td>\n",
              "      <td>my output</td>\n",
              "      <td>2</td>\n",
              "    </tr>\n",
              "    <tr>\n",
              "      <th>12</th>\n",
              "      <td>1</td>\n",
              "      <td>my output</td>\n",
              "      <td>2</td>\n",
              "    </tr>\n",
              "  </tbody>\n",
              "</table>\n",
              "</div>"
            ],
            "text/plain": [
              "    brightness       type  rating\n",
              "8            1  my output       2\n",
              "9            1  my output       2\n",
              "10           1  my output       2\n",
              "11           1  my output       2\n",
              "12           1  my output       2"
            ]
          },
          "metadata": {},
          "execution_count": 197
        }
      ]
    },
    {
      "cell_type": "code",
      "metadata": {
        "colab": {
          "base_uri": "https://localhost:8080/"
        },
        "id": "KUlCmoc6xL54",
        "outputId": "3dbcf93c-688e-44a7-f9d2-192528895dac"
      },
      "source": [
        "myOutputDf.tail()"
      ],
      "execution_count": null,
      "outputs": [
        {
          "output_type": "execute_result",
          "data": {
            "text/html": [
              "<div>\n",
              "<style scoped>\n",
              "    .dataframe tbody tr th:only-of-type {\n",
              "        vertical-align: middle;\n",
              "    }\n",
              "\n",
              "    .dataframe tbody tr th {\n",
              "        vertical-align: top;\n",
              "    }\n",
              "\n",
              "    .dataframe thead th {\n",
              "        text-align: right;\n",
              "    }\n",
              "</style>\n",
              "<table border=\"1\" class=\"dataframe\">\n",
              "  <thead>\n",
              "    <tr style=\"text-align: right;\">\n",
              "      <th></th>\n",
              "      <th>brightness</th>\n",
              "      <th>type</th>\n",
              "      <th>rating</th>\n",
              "    </tr>\n",
              "  </thead>\n",
              "  <tbody>\n",
              "    <tr>\n",
              "      <th>155</th>\n",
              "      <td>5</td>\n",
              "      <td>my output</td>\n",
              "      <td>2</td>\n",
              "    </tr>\n",
              "    <tr>\n",
              "      <th>156</th>\n",
              "      <td>5</td>\n",
              "      <td>my output</td>\n",
              "      <td>4</td>\n",
              "    </tr>\n",
              "    <tr>\n",
              "      <th>157</th>\n",
              "      <td>5</td>\n",
              "      <td>my output</td>\n",
              "      <td>3</td>\n",
              "    </tr>\n",
              "    <tr>\n",
              "      <th>158</th>\n",
              "      <td>5</td>\n",
              "      <td>my output</td>\n",
              "      <td>3</td>\n",
              "    </tr>\n",
              "    <tr>\n",
              "      <th>159</th>\n",
              "      <td>5</td>\n",
              "      <td>my output</td>\n",
              "      <td>3</td>\n",
              "    </tr>\n",
              "  </tbody>\n",
              "</table>\n",
              "</div>"
            ],
            "text/plain": [
              "     brightness       type  rating\n",
              "155           5  my output       2\n",
              "156           5  my output       4\n",
              "157           5  my output       3\n",
              "158           5  my output       3\n",
              "159           5  my output       3"
            ]
          },
          "metadata": {},
          "execution_count": 198
        }
      ]
    },
    {
      "cell_type": "markdown",
      "metadata": {
        "id": "C_INWCsywmV-"
      },
      "source": [
        "Again, confidence interval is 95% confidence interval. Note that the confidence intervals are much larger here because we only have 9 data points for each mean shown on the graph. "
      ]
    },
    {
      "cell_type": "code",
      "metadata": {
        "colab": {
          "base_uri": "https://localhost:8080/"
        },
        "id": "YxvGWvVonRZ0",
        "outputId": "0e5e242a-b8ed-4eaa-8a38-266f45a86ff3"
      },
      "source": [
        "ax = sns.pointplot(x=\"brightness\", y=\"rating\", data=myOutputDf, join=False, palette=\"Blues_d\")\n",
        "ax.set_title(\"Relative Ranking vs. Brightness for My Pipeline\")\n",
        "ax.set_xlabel(\"Brightness\")\n",
        "ax.set_ylabel(\"Relative Ranking\")\n",
        "plt.savefig('RelativeRankingVsBrightnessMyPipeline.svg')\n",
        "plt.savefig('RelativeRankingVsBrightnessMyPipeline.png', dpi=300)"
      ],
      "execution_count": null,
      "outputs": [
        {
          "output_type": "display_data",
          "data": {
            "image/png": "[encoded data removed]",
            "text/plain": [
              "<Figure size 432x288 with 1 Axes>"
            ]
          },
          "metadata": {}
        }
      ]
    },
    {
      "cell_type": "markdown",
      "metadata": {
        "id": "MCKU11d1z5mK"
      },
      "source": [
        "Let's also generate a similar graph to before but for each brightness, so we can compare how the methods do depending on the brightness of the photo."
      ]
    },
    {
      "cell_type": "code",
      "metadata": {
        "id": "7dliE8VMz80Y"
      },
      "source": [
        "def makePointPlot(brightnessLevel):\n",
        "  brightnessDf = newDf[newDf['brightness'] == brightnessLevel]\n",
        "  ax = sns.pointplot(x=\"type\", y=\"rating\", data=brightnessDf, join=False, palette=\"Blues_d\", order=[\"raw\", \"my output\", \"zoom auto\", \"zoom manual\"])\n",
        "  ax.set_title(f\"Type vs. Relative Ranking for Brightness {brightnessLevel}\")\n",
        "  ax.set_xlabel(\"Type\")\n",
        "  ax.set_ylabel(\"Relative Ranking\")\n",
        "  ax.set_xticklabels([\"Raw\", \"My Pipeline\", \"Zoom Auto\", \"Zoom Manual\"])\n",
        "  plt.savefig(f'TypeVsRelativeRankingBrightness{brightnessLevel}.svg')\n",
        "  plt.savefig(f'TypeVsRelativeRankingBrightness{brightnessLevel}.png', dpi=300)"
      ],
      "execution_count": null,
      "outputs": []
    },
    {
      "cell_type": "code",
      "metadata": {
        "colab": {
          "base_uri": "https://localhost:8080/"
        },
        "id": "iWLnxGg81aeo",
        "outputId": "68b2b4d6-7bcf-46d7-ffd7-4d7525f99140"
      },
      "source": [
        "makePointPlot(1)"
      ],
      "execution_count": null,
      "outputs": [
        {
          "output_type": "display_data",
          "data": {
            "image/png": "[encoded data removed]",
            "text/plain": [
              "<Figure size 432x288 with 1 Axes>"
            ]
          },
          "metadata": {}
        }
      ]
    },
    {
      "cell_type": "code",
      "metadata": {
        "colab": {
          "base_uri": "https://localhost:8080/"
        },
        "id": "xV0U27Ct1-jB",
        "outputId": "384848f1-4228-423c-c246-4e0133bc5841"
      },
      "source": [
        "makePointPlot(2)"
      ],
      "execution_count": null,
      "outputs": [
        {
          "output_type": "display_data",
          "data": {
            "image/png": "[encoded data removed]",
            "text/plain": [
              "<Figure size 432x288 with 1 Axes>"
            ]
          },
          "metadata": {}
        }
      ]
    },
    {
      "cell_type": "code",
      "metadata": {
        "colab": {
          "base_uri": "https://localhost:8080/"
        },
        "id": "aYCrsXvZ1_yL",
        "outputId": "77b9ac1c-3dce-43ca-b100-0b2a1913e3de"
      },
      "source": [
        "makePointPlot(3)"
      ],
      "execution_count": null,
      "outputs": [
        {
          "output_type": "display_data",
          "data": {
            "image/png": "[encoded data removed]",
            "text/plain": [
              "<Figure size 432x288 with 1 Axes>"
            ]
          },
          "metadata": {}
        }
      ]
    },
    {
      "cell_type": "code",
      "metadata": {
        "colab": {
          "base_uri": "https://localhost:8080/"
        },
        "id": "98NjYr6f2Axn",
        "outputId": "71bf9687-c47e-4284-f093-fee757ff7412"
      },
      "source": [
        "makePointPlot(4)"
      ],
      "execution_count": null,
      "outputs": [
        {
          "output_type": "display_data",
          "data": {
            "image/png": "[encoded data removed]",
            "text/plain": [
              "<Figure size 432x288 with 1 Axes>"
            ]
          },
          "metadata": {}
        }
      ]
    },
    {
      "cell_type": "code",
      "metadata": {
        "colab": {
          "base_uri": "https://localhost:8080/"
        },
        "id": "4TEVmqTT2Bs0",
        "outputId": "77efe938-cba1-4a95-b984-6dc8baa2f52a"
      },
      "source": [
        "makePointPlot(5)"
      ],
      "execution_count": null,
      "outputs": [
        {
          "output_type": "display_data",
          "data": {
            "image/png": "[encoded data removed]",
            "text/plain": [
              "<Figure size 432x288 with 1 Axes>"
            ]
          },
          "metadata": {}
        }
      ]
    },
    {
      "cell_type": "markdown",
      "metadata": {
        "id": "0UswuOKP27cP"
      },
      "source": [
        "It seems that as the brightness increases, the advantage of Zoom Manual, which tends to do the best overall, decreases since it starts to lighten the image more than it needs to."
      ]
    },
    {
      "cell_type": "markdown",
      "metadata": {
        "id": "NkpiLfgy8gZo"
      },
      "source": [
        "## Download Files"
      ]
    },
    {
      "cell_type": "markdown",
      "metadata": {
        "id": "YxgF8SEd9LaL"
      },
      "source": [
        "Used this [Stack Overflow Post](https://stackoverflow.com/questions/50453428/how-do-i-download-multiple-files-or-an-entire-folder-from-google-colab) to figure out how to download files programmatically."
      ]
    },
    {
      "cell_type": "markdown",
      "metadata": {
        "id": "6iuqDDh08iQj"
      },
      "source": [
        "Png files"
      ]
    },
    {
      "cell_type": "code",
      "metadata": {
        "colab": {
          "base_uri": "https://localhost:8080/"
        },
        "id": "TOnrEUcu5EhO",
        "outputId": "339e7f10-d926-41f5-990a-7bf60dfc1de6"
      },
      "source": [
        "!zip -r /content/pngs.zip /content/*.png"
      ],
      "execution_count": null,
      "outputs": [
        {
          "output_type": "stream",
          "name": "stdout",
          "text": [
            "  adding: content/bar_graph.png (deflated 23%)\n",
            "  adding: content/RelativeRankingVsBrightnessMyPipeline.png (deflated 17%)\n",
            "  adding: content/RelativeRatingVsBrightnessMyPipeline.png (deflated 18%)\n",
            "  adding: content/TypeVsRelativeRankingBrightness1.png (deflated 16%)\n",
            "  adding: content/TypeVsRelativeRankingBrightness2.png (deflated 17%)\n",
            "  adding: content/TypeVsRelativeRankingBrightness3.png (deflated 17%)\n",
            "  adding: content/TypeVsRelativeRankingBrightness4.png (deflated 16%)\n",
            "  adding: content/TypeVsRelativeRankingBrightness5.png (deflated 17%)\n",
            "  adding: content/TypeVsRelativeRankingOverall.png (deflated 17%)\n",
            "  adding: content/TypeVsRelativeRatingBrightness1.png (deflated 18%)\n",
            "  adding: content/TypeVsRelativeRatingBrightness2.png (deflated 18%)\n",
            "  adding: content/TypeVsRelativeRatingBrightness3.png (deflated 18%)\n",
            "  adding: content/TypeVsRelativeRatingBrightness4.png (deflated 18%)\n",
            "  adding: content/TypeVsRelativeRatingBrightness5.png (deflated 18%)\n",
            "  adding: content/TypeVsRelativeRatingOverall.png (deflated 20%)\n"
          ]
        }
      ]
    },
    {
      "cell_type": "code",
      "metadata": {
        "colab": {
          "base_uri": "https://localhost:8080/"
        },
        "id": "3EqVRBYY7l2t",
        "outputId": "d76da9f6-fd4c-4e24-9ebc-ee2e9e16c576"
      },
      "source": [
        "files.download(\"/content/pngs.zip\")"
      ],
      "execution_count": null,
      "outputs": [
        {
          "output_type": "display_data",
          "data": {
            "application/javascript": [
              "\n",
              "    async function download(id, filename, size) {\n",
              "      if (!google.colab.kernel.accessAllowed) {\n",
              "        return;\n",
              "      }\n",
              "      const div = document.createElement('div');\n",
              "      const label = document.createElement('label');\n",
              "      label.textContent = `Downloading \"${filename}\": `;\n",
              "      div.appendChild(label);\n",
              "      const progress = document.createElement('progress');\n",
              "      progress.max = size;\n",
              "      div.appendChild(progress);\n",
              "      document.body.appendChild(div);\n",
              "\n",
              "      const buffers = [];\n",
              "      let downloaded = 0;\n",
              "\n",
              "      const channel = await google.colab.kernel.comms.open(id);\n",
              "      // Send a message to notify the kernel that we're ready.\n",
              "      channel.send({})\n",
              "\n",
              "      for await (const message of channel.messages) {\n",
              "        // Send a message to notify the kernel that we're ready.\n",
              "        channel.send({})\n",
              "        if (message.buffers) {\n",
              "          for (const buffer of message.buffers) {\n",
              "            buffers.push(buffer);\n",
              "            downloaded += buffer.byteLength;\n",
              "            progress.value = downloaded;\n",
              "          }\n",
              "        }\n",
              "      }\n",
              "      const blob = new Blob(buffers, {type: 'application/binary'});\n",
              "      const a = document.createElement('a');\n",
              "      a.href = window.URL.createObjectURL(blob);\n",
              "      a.download = filename;\n",
              "      div.appendChild(a);\n",
              "      a.click();\n",
              "      div.remove();\n",
              "    }\n",
              "  "
            ],
            "text/plain": [
              "<IPython.core.display.Javascript object>"
            ]
          },
          "metadata": {}
        },
        {
          "output_type": "display_data",
          "data": {
            "application/javascript": [
              "download(\"download_f79f8c2a-d5bc-41b3-9c29-21e69814f2e7\", \"pngs.zip\", 902043)"
            ],
            "text/plain": [
              "<IPython.core.display.Javascript object>"
            ]
          },
          "metadata": {}
        }
      ]
    },
    {
      "cell_type": "markdown",
      "metadata": {
        "id": "Nm5GVGS18r3w"
      },
      "source": [
        "Svg files."
      ]
    },
    {
      "cell_type": "code",
      "metadata": {
        "colab": {
          "base_uri": "https://localhost:8080/"
        },
        "id": "PGF9FX6J8k8_",
        "outputId": "f2c27ed5-936f-445f-9f77-5d86186ef5a0"
      },
      "source": [
        "!zip -r /content/img_svgs.zip /content/*.svg"
      ],
      "execution_count": null,
      "outputs": [
        {
          "output_type": "stream",
          "name": "stdout",
          "text": [
            "  adding: content/bar_graph.svg (deflated 78%)\n",
            "  adding: content/RelativeRankingVsBrightnessMyPipeline.svg (deflated 79%)\n",
            "  adding: content/RelativeRatingVsBrightnessMyPipeline.svg (deflated 78%)\n",
            "  adding: content/TypeVsRelativeRankingBrightness1.svg (deflated 78%)\n",
            "  adding: content/TypeVsRelativeRankingBrightness2.svg (deflated 78%)\n",
            "  adding: content/TypeVsRelativeRankingBrightness3.svg (deflated 78%)\n",
            "  adding: content/TypeVsRelativeRankingBrightness4.svg (deflated 78%)\n",
            "  adding: content/TypeVsRelativeRankingBrightness5.svg (deflated 78%)\n",
            "  adding: content/TypeVsRelativeRankingOverall.svg (deflated 78%)\n",
            "  adding: content/TypeVsRelativeRatingBrightness1.svg (deflated 78%)\n",
            "  adding: content/TypeVsRelativeRatingBrightness2.svg (deflated 77%)\n",
            "  adding: content/TypeVsRelativeRatingBrightness3.svg (deflated 78%)\n",
            "  adding: content/TypeVsRelativeRatingBrightness4.svg (deflated 78%)\n",
            "  adding: content/TypeVsRelativeRatingBrightness5.svg (deflated 78%)\n",
            "  adding: content/TypeVsRelativeRatingOverall.svg (deflated 77%)\n"
          ]
        }
      ]
    },
    {
      "cell_type": "code",
      "metadata": {
        "colab": {
          "base_uri": "https://localhost:8080/"
        },
        "id": "fOL70q5T8k8_",
        "outputId": "e2dffb3f-fe67-4650-e164-d027ef874984"
      },
      "source": [
        "files.download(\"/content/img_svgs.zip\")"
      ],
      "execution_count": null,
      "outputs": [
        {
          "output_type": "display_data",
          "data": {
            "application/javascript": [
              "\n",
              "    async function download(id, filename, size) {\n",
              "      if (!google.colab.kernel.accessAllowed) {\n",
              "        return;\n",
              "      }\n",
              "      const div = document.createElement('div');\n",
              "      const label = document.createElement('label');\n",
              "      label.textContent = `Downloading \"${filename}\": `;\n",
              "      div.appendChild(label);\n",
              "      const progress = document.createElement('progress');\n",
              "      progress.max = size;\n",
              "      div.appendChild(progress);\n",
              "      document.body.appendChild(div);\n",
              "\n",
              "      const buffers = [];\n",
              "      let downloaded = 0;\n",
              "\n",
              "      const channel = await google.colab.kernel.comms.open(id);\n",
              "      // Send a message to notify the kernel that we're ready.\n",
              "      channel.send({})\n",
              "\n",
              "      for await (const message of channel.messages) {\n",
              "        // Send a message to notify the kernel that we're ready.\n",
              "        channel.send({})\n",
              "        if (message.buffers) {\n",
              "          for (const buffer of message.buffers) {\n",
              "            buffers.push(buffer);\n",
              "            downloaded += buffer.byteLength;\n",
              "            progress.value = downloaded;\n",
              "          }\n",
              "        }\n",
              "      }\n",
              "      const blob = new Blob(buffers, {type: 'application/binary'});\n",
              "      const a = document.createElement('a');\n",
              "      a.href = window.URL.createObjectURL(blob);\n",
              "      a.download = filename;\n",
              "      div.appendChild(a);\n",
              "      a.click();\n",
              "      div.remove();\n",
              "    }\n",
              "  "
            ],
            "text/plain": [
              "<IPython.core.display.Javascript object>"
            ]
          },
          "metadata": {}
        },
        {
          "output_type": "display_data",
          "data": {
            "application/javascript": [
              "download(\"download_02ac29e6-ca4e-4e42-a81d-09e6ade39ee1\", \"img_svgs.zip\", 102347)"
            ],
            "text/plain": [
              "<IPython.core.display.Javascript object>"
            ]
          },
          "metadata": {}
        }
      ]
    }
  ]
}